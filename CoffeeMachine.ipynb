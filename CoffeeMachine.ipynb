{
 "cells": [
  {
   "cell_type": "markdown",
   "metadata": {},
   "source": [
    "# Coffee Machine"
   ]
  },
  {
   "cell_type": "code",
   "execution_count": null,
   "metadata": {},
   "outputs": [],
   "source": [
    "from confluent_kafka import Consumer\n",
    "\n",
    "config = read_config()\n",
    "config[\"group.id\"] = \"coffee-machine\"\n",
    "config[\"auto.offset.reset\"] = \"earliest\"\n",
    "topic = \"coffee_ordered\"\n",
    "\n",
    "consumer = Consumer(config)\n",
    "consumer.subscribe([topic])\n",
    "\n",
    "try:\n",
    "  while True:\n",
    "    msg = consumer.poll(1.0)\n",
    "    if msg is not None and msg.error() is None:\n",
    "      key = msg.key().decode(\"utf-8\")\n",
    "      value = msg.value().decode(\"utf-8\")\n",
    "      print(f\"Consumed message from topic {topic}: key = {key:12} value = {value:12}\")\n",
    "except KeyboardInterrupt:\n",
    "  pass\n",
    "finally:\n",
    "  consumer.close()"
   ]
  },
  {
   "cell_type": "markdown",
   "metadata": {},
   "source": [
    "# Utils"
   ]
  },
  {
   "cell_type": "code",
   "execution_count": 3,
   "metadata": {},
   "outputs": [],
   "source": [
    "def read_config():\n",
    "  config = {}\n",
    "  with open(\".client.properties\") as fh:\n",
    "    for line in fh:\n",
    "      line = line.strip()\n",
    "      if len(line) != 0 and line[0] != \"#\":\n",
    "        parameter, value = line.strip().split('=', 1)\n",
    "        config[parameter] = value.strip()\n",
    "  return config"
   ]
  }
 ],
 "metadata": {
  "kernelspec": {
   "display_name": "Python 3",
   "language": "python",
   "name": "python3"
  },
  "language_info": {
   "codemirror_mode": {
    "name": "ipython",
    "version": 3
   },
   "file_extension": ".py",
   "mimetype": "text/x-python",
   "name": "python",
   "nbconvert_exporter": "python",
   "pygments_lexer": "ipython3",
   "version": "3.12.5"
  }
 },
 "nbformat": 4,
 "nbformat_minor": 2
}
