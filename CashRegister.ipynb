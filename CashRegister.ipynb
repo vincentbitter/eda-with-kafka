{
 "cells": [
  {
   "cell_type": "markdown",
   "metadata": {},
   "source": [
    "# Cash Register"
   ]
  },
  {
   "cell_type": "code",
   "execution_count": null,
   "metadata": {},
   "outputs": [],
   "source": [
    "from confluent_kafka import Producer\n",
    "\n",
    "producer = Producer(read_config())\n",
    "\n",
    "def produce(order_id, order):\n",
    "  topic = \"coffee_ordered\"\n",
    "  \n",
    "  key = \"order#\" + order_id\n",
    "  producer.produce(topic, key=key, value=order)\n",
    "  print(f\"Produced message to topic {topic}: key = {key:12} value = {order:12}\")\n",
    "  producer.flush()\n",
    "\n",
    "produce('1', '{\"order\": 1, \"type\":\"latte\", \"cup\": \"store\"}')\n",
    "\n",
    "produce('2', '{\"order\": 2, \"type\":\"black\", \"cup\": \"own\"}')\n",
    "produce('2', '{\"order\": 2, \"type\":\"cappuccino\", \"cup\": \"own\"}')\n",
    "produce('2', '{\"order\": 2, \"type\":\"black with milk\", \"cup\": \"own\"}')"
   ]
  },
  {
   "cell_type": "markdown",
   "metadata": {},
   "source": [
    "# Utils"
   ]
  },
  {
   "cell_type": "code",
   "execution_count": 1,
   "metadata": {},
   "outputs": [],
   "source": [
    "def read_config():\n",
    "  config = {}\n",
    "  with open(\".client.properties\") as fh:\n",
    "    for line in fh:\n",
    "      line = line.strip()\n",
    "      if len(line) != 0 and line[0] != \"#\":\n",
    "        parameter, value = line.strip().split('=', 1)\n",
    "        config[parameter] = value.strip()\n",
    "  return config"
   ]
  }
 ],
 "metadata": {
  "kernelspec": {
   "display_name": "Python 3",
   "language": "python",
   "name": "python3"
  },
  "language_info": {
   "codemirror_mode": {
    "name": "ipython",
    "version": 3
   },
   "file_extension": ".py",
   "mimetype": "text/x-python",
   "name": "python",
   "nbconvert_exporter": "python",
   "pygments_lexer": "ipython3",
   "version": "3.12.5"
  }
 },
 "nbformat": 4,
 "nbformat_minor": 2
}
